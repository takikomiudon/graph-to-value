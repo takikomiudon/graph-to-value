{
 "cells": [
  {
   "cell_type": "code",
   "execution_count": 29,
   "metadata": {},
   "outputs": [],
   "source": [
    "import base64\n",
    "from openai import OpenAI\n",
    "import time\n",
    "\n",
    "client = OpenAI()"
   ]
  },
  {
   "cell_type": "code",
   "execution_count": 7,
   "metadata": {},
   "outputs": [],
   "source": [
    "def encode_image(image_path):\n",
    "    with open(image_path, \"rb\") as image_file:\n",
    "        return base64.b64encode(image_file.read()).decode(\"utf-8\")\n",
    "\n",
    "image_path = \"test1.png\"\n",
    "base64_image = encode_image(image_path)"
   ]
  },
  {
   "cell_type": "code",
   "execution_count": 21,
   "metadata": {},
   "outputs": [],
   "source": [
    "file = client.files.create(\n",
    "    file=open(\"test1.png\", \"rb\"),\n",
    "    purpose=\"assistants\",\n",
    ")"
   ]
  },
  {
   "cell_type": "markdown",
   "metadata": {},
   "source": [
    "# GPT-4.1"
   ]
  },
  {
   "cell_type": "code",
   "execution_count": 13,
   "metadata": {},
   "outputs": [
    {
     "name": "stdout",
     "output_type": "stream",
     "text": [
      "以下は、グラフから**hoge**（青線）の各年度推定値を有効数字8桁でカンマ区切りで出力したものです。\n",
      "\n",
      "```\n",
      "0.80000000,0.50000000,0.60000000,0.80000000,0.90000000,0.40000000,0.30000000,0.90000000,0.20000000,0.40000000,0.80000000,0.90000000,0.70000000,0.50000000,0.80000000,0.40000000,0.90000000,0.50000000,0.50000000,0.20000000,0.70000000,0.30000000,0.70000000,0.80000000,0.30000000,0.40000000\n",
      "```\n",
      "\n",
      "年ごとの並びは左から2000年～2025年です。  \n",
      "グラフから読み取った値のため、おおよその推測値です。\n"
     ]
    }
   ],
   "source": [
    "response = client.responses.create(\n",
    "    model=\"gpt-4.1\",\n",
    "    input=[{\n",
    "        \"role\": \"user\",\n",
    "        \"content\": [\n",
    "            {\n",
    "                \"type\": \"input_text\",\n",
    "                \"text\": \"グラフからhogeの数値を推測して各年度分有効数字8桁でカンマ区切りで出力してください。\"\n",
    "            },\n",
    "            {\n",
    "                \"type\": \"input_image\",\n",
    "                \"image_url\": f\"data:image/png;base64,{base64_image}\"\n",
    "            },\n",
    "        ],\n",
    "    }],\n",
    ")\n",
    "\n",
    "print(response.output_text)"
   ]
  },
  {
   "cell_type": "code",
   "execution_count": 34,
   "metadata": {},
   "outputs": [
    {
     "name": "stdout",
     "output_type": "stream",
     "text": [
      "user : file-RexN9ByMdhGExHu1v85kJ3\n",
      "assistant : グラフから「hoge」の数値を推測して、各年度分を有効数字8桁でカンマ区切りで出力します。  \n",
      "※目視による概算である旨ご容赦ください。\n",
      "\n",
      "2000: 0.80  \n",
      "2001: 1.00  \n",
      "2002: 0.60  \n",
      "2003: 0.90  \n",
      "2004: 0.70  \n",
      "2005: 1.00  \n",
      "2006: 0.10  \n",
      "2007: 0.00  \n",
      "2008: 0.20  \n",
      "2009: 0.20  \n",
      "2010: 0.10  \n",
      "2011: 0.20  \n",
      "2012: 0.50  \n",
      "2013: 0.50  \n",
      "2014: 0.70  \n",
      "2015: 0.80  \n",
      "2016: 0.40  \n",
      "2017: 0.60  \n",
      "2018: 0.30  \n",
      "2019: 1.00  \n",
      "2020: 0.60  \n",
      "2021: 1.00  \n",
      "2022: 0.40  \n",
      "2023: 0.80  \n",
      "2024: 0.50\n",
      "\n",
      "**カンマ区切り版（8桁有効数字、小数点制約上ゼロ埋め含む）：**  \n",
      "0.80000000,1.00000000,0.60000000,0.90000000,0.70000000,1.00000000,0.10000000,0.00000000,0.20000000,0.20000000,0.10000000,0.20000000,0.50000000,0.50000000,0.70000000,0.80000000,0.40000000,0.60000000,0.30000000,1.00000000,0.60000000,1.00000000,0.40000000,0.80000000,0.50000000\n",
      "\n",
      "もし他の精度や形式で出力したい場合はご指示ください。\n"
     ]
    }
   ],
   "source": [
    "assistant = client.beta.assistants.create(\n",
    "    model=\"gpt-4.1\",\n",
    "    tools=[{\"type\": \"code_interpreter\"}],\n",
    "    tool_resources={\n",
    "        \"code_interpreter\": {\n",
    "            \"file_ids\": [file.id],\n",
    "        },\n",
    "    },\n",
    ")\n",
    "\n",
    "thread = client.beta.threads.create()\n",
    "\n",
    "message = client.beta.threads.messages.create(\n",
    "    thread_id=thread.id,\n",
    "    role=\"user\",\n",
    "    content=[\n",
    "        {\"type\": \"image_file\", \"image_file\": {\"file_id\": file.id}},\n",
    "        {\"type\": \"text\", \"text\": \"グラフからhogeの数値を推測して各年度分有効数字8桁でカンマ区切りで出力してください。\"},\n",
    "    ],\n",
    ")\n",
    "\n",
    "run = client.beta.threads.runs.create(\n",
    "    thread_id=thread.id,\n",
    "    assistant_id=assistant.id,\n",
    ")\n",
    "\n",
    "run = client.beta.threads.runs.retrieve(\n",
    "    thread_id=thread.id,\n",
    "    run_id=run.id,\n",
    ")\n",
    "\n",
    "while run.status != \"completed\":\n",
    "    run = client.beta.threads.runs.retrieve(\n",
    "        thread_id=thread.id,\n",
    "        run_id=run.id,\n",
    "    )\n",
    "    time.sleep(10)\n",
    "\n",
    "messages = client.beta.threads.messages.list(\n",
    "    thread_id=thread.id,\n",
    "    order=\"asc\",\n",
    ")\n",
    "\n",
    "for message in messages:\n",
    "    if message.content[0].type == \"text\":\n",
    "        print(message.role, \":\", message.content[0].text.value)"
   ]
  },
  {
   "cell_type": "markdown",
   "metadata": {},
   "source": [
    "# o4-mini"
   ]
  },
  {
   "cell_type": "code",
   "execution_count": 35,
   "metadata": {},
   "outputs": [
    {
     "name": "stdout",
     "output_type": "stream",
     "text": [
      "0.60000000,0.65000000,0.20000000,0.78000000,0.82000000,0.95000000,0.92000000,0.30000000,0.28000000,0.82000000,0.95000000,0.60000000,0.70000000,0.65000000,0.60000000,0.65000000,0.55000000,0.53000000,0.75000000,0.60000000,0.55000000,0.60000000,0.12000000,0.88000000,0.25000000,0.88000000\n"
     ]
    }
   ],
   "source": [
    "response = client.responses.create(\n",
    "    model=\"o4-mini\",\n",
    "    input=[{\n",
    "        \"role\": \"user\",\n",
    "        \"content\": [\n",
    "            {\n",
    "                \"type\": \"input_text\",\n",
    "                \"text\": \"グラフからhogeの数値を推測して各年度分有効数字8桁でカンマ区切りで出力してください。\"\n",
    "            },\n",
    "            {\n",
    "                \"type\": \"input_image\",\n",
    "                \"image_url\": f\"data:image/png;base64,{base64_image}\"\n",
    "            },\n",
    "        ],\n",
    "    }],\n",
    ")\n",
    "\n",
    "print(response.output_text)"
   ]
  },
  {
   "cell_type": "markdown",
   "metadata": {},
   "source": [
    "# o1"
   ]
  },
  {
   "cell_type": "code",
   "execution_count": 18,
   "metadata": {},
   "outputs": [
    {
     "name": "stdout",
     "output_type": "stream",
     "text": [
      "0.70000000,0.50000000,0.60000000,0.80000000,0.30000000,0.40000000,0.70000000,0.50000000,0.30000000,0.90000000,0.40000000,0.70000000,0.80000000,0.50000000,0.20000000,0.90000000,0.70000000,0.60000000,0.20000000,0.80000000,0.60000000,0.30000000,1.00000000,0.50000000,0.60000000,0.70000000\n"
     ]
    }
   ],
   "source": [
    "response = client.responses.create(\n",
    "    model=\"o1\",\n",
    "    input=[{\n",
    "        \"role\": \"user\",\n",
    "        \"content\": [\n",
    "            {\n",
    "                \"type\": \"input_text\",\n",
    "                \"text\": \"グラフからhogeの数値を推測して各年度分有効数字8桁でカンマ区切りで出力してください。\"\n",
    "            },\n",
    "            {\n",
    "                \"type\": \"input_image\",\n",
    "                \"image_url\": f\"data:image/png;base64,{base64_image}\"\n",
    "            },\n",
    "        ],\n",
    "    }],\n",
    ")\n",
    "\n",
    "print(response.output_text)"
   ]
  },
  {
   "cell_type": "markdown",
   "metadata": {},
   "source": [
    "# GPT-4o"
   ]
  },
  {
   "cell_type": "code",
   "execution_count": 20,
   "metadata": {},
   "outputs": [
    {
     "name": "stdout",
     "output_type": "stream",
     "text": [
      "申し訳ありませんが、画像から数値を正確に推測することはできません。ただし、グラフを詳細に確認したり、より高解像度のデータを使うことで、より正確に数値を推定できるかもしれません。テキストデータなどがあればお手伝いできることがあります。\n"
     ]
    }
   ],
   "source": [
    "response = client.responses.create(\n",
    "    model=\"gpt-4o\",\n",
    "    input=[{\n",
    "        \"role\": \"user\",\n",
    "        \"content\": [\n",
    "            {\n",
    "                \"type\": \"input_text\",\n",
    "                \"text\": \"グラフからhogeの数値を推測して各年度分有効数字8桁でカンマ区切りで出力してください。\"\n",
    "            },\n",
    "            {\n",
    "                \"type\": \"input_image\",\n",
    "                \"image_url\": f\"data:image/png;base64,{base64_image}\"\n",
    "            },\n",
    "        ],\n",
    "    }],\n",
    ")\n",
    "\n",
    "print(response.output_text)"
   ]
  },
  {
   "cell_type": "code",
   "execution_count": 40,
   "metadata": {},
   "outputs": [
    {
     "name": "stdout",
     "output_type": "stream",
     "text": [
      "assistant : 画像の時系列グラフからhogeの数値を推測して年度ごとの値を有効数字8桁でカンマ区切りで出力します。ただし、視覚的な観察に基づく推定になるため、正確な数値ではなく参考程度の値としてお考えください。\n",
      "\n",
      "各データポイントの推定は全体の傾向と数値の変化率を考慮して行います。2021年から2000年までの推定値を始めます。\n",
      "assistant : 先ほどの説明では間違いがありました。もう一度グラフを読み取り、2000年から2025年までの順序での推定値を出力します。しばらくお待ちください。\n",
      "assistant : ここで推定される2000年から2025年までのhogeの数値を示します：\n",
      "\n",
      "- 2000: 0.95\n",
      "- 2001: 0.30\n",
      "- 2002: 0.92\n",
      "- 2003: 0.60\n",
      "- 2004: 0.95\n",
      "- 2005: 0.30\n",
      "- 2006: 0.90\n",
      "- 2007: 0.65\n",
      "- 2008: 0.05\n",
      "- 2009: 0.95\n",
      "- 2010: 0.60\n",
      "- 2011: 0.50\n",
      "- 2012: 0.70\n",
      "- 2013: 0.30\n",
      "- 2014: 0.90\n",
      "- 2015: 0.50\n",
      "- 2016: 0.10\n",
      "- 2017: 0.95\n",
      "- 2018: 0.10\n",
      "- 2019: 0.40\n",
      "- 2020: 0.45\n",
      "- 2021: 0.95\n",
      "- 2022: 0.80\n",
      "- 2023: 0.90\n",
      "- 2024: 0.70\n",
      "- 2025: 0.45\n",
      "\n",
      "それでは、これらの推定を有効数字8桁でカンマ区切りで出力します。\n",
      "assistant : こちらが2000年から2025年までの推定値を有効数字8桁でカンマ区切りにしたものです：\n",
      "\n",
      "```\n",
      "0.95,0.3,0.92,0.6,0.95,0.3,0.9,0.65,0.05,0.95,0.6,0.5,0.7,0.3,0.9,0.5,0.1,0.95,0.1,0.4,0.45,0.95,0.8,0.9,0.7,0.45\n",
      "```\n",
      "\n",
      "この数値は視覚的にグラフを読み取って推測された値であり、正確性は保証できません。参考としてお使いください。\n"
     ]
    }
   ],
   "source": [
    "assistant = client.beta.assistants.create(\n",
    "    model=\"gpt-4o\",\n",
    "    tools=[{\"type\": \"code_interpreter\"}],\n",
    "    tool_resources={\n",
    "        \"code_interpreter\": {\n",
    "            \"file_ids\": [file.id],\n",
    "        },\n",
    "    },\n",
    ")\n",
    "\n",
    "thread = client.beta.threads.create()\n",
    "\n",
    "message = client.beta.threads.messages.create(\n",
    "    thread_id=thread.id,\n",
    "    role=\"user\",\n",
    "    content=[\n",
    "        {\"type\": \"image_file\", \"image_file\": {\"file_id\": file.id}},\n",
    "        {\"type\": \"text\", \"text\": \"グラフからhogeの数値を推測して各年度分有効数字8桁でカンマ区切りで出力してください。\"},\n",
    "    ],\n",
    ")\n",
    "\n",
    "run = client.beta.threads.runs.create(\n",
    "    thread_id=thread.id,\n",
    "    assistant_id=assistant.id,\n",
    ")\n",
    "\n",
    "run = client.beta.threads.runs.retrieve(\n",
    "    thread_id=thread.id,\n",
    "    run_id=run.id,\n",
    ")\n",
    "\n",
    "while run.status != \"completed\":\n",
    "    run = client.beta.threads.runs.retrieve(\n",
    "        thread_id=thread.id,\n",
    "        run_id=run.id,\n",
    "    )\n",
    "    time.sleep(10)\n",
    "\n",
    "messages = client.beta.threads.messages.list(\n",
    "    thread_id=thread.id,\n",
    "    order=\"asc\",\n",
    ")\n",
    "\n",
    "for message in messages:\n",
    "    if message.content[0].type == \"text\":\n",
    "        print(message.role, \":\", message.content[0].text.value)"
   ]
  },
  {
   "cell_type": "markdown",
   "metadata": {},
   "source": [
    "# GPT-4.5-Preview"
   ]
  },
  {
   "cell_type": "code",
   "execution_count": 41,
   "metadata": {},
   "outputs": [
    {
     "name": "stdout",
     "output_type": "stream",
     "text": [
      "2000,0.6000000  \n",
      "2001,0.1500000  \n",
      "2002,0.8500000  \n",
      "2003,0.4000000  \n",
      "2004,0.2000000  \n",
      "2005,0.9500000  \n",
      "2006,0.3000000  \n",
      "2007,0.3500000  \n",
      "2008,0.7000000  \n",
      "2009,0.9000000  \n",
      "2010,0.4000000  \n",
      "2011,0.7500000  \n",
      "2012,0.5500000  \n",
      "2013,0.8000000  \n",
      "2014,0.5500000  \n",
      "2015,0.8500000  \n",
      "2016,0.2500000  \n",
      "2017,0.4000000  \n",
      "2018,0.8000000  \n",
      "2019,0.2000000  \n",
      "2020,0.6000000  \n",
      "2021,0.8500000  \n",
      "2022,0.3000000  \n",
      "2023,0.5500000  \n",
      "2024,0.2000000  \n",
      "2025,0.7500000\n"
     ]
    }
   ],
   "source": [
    "response = client.responses.create(\n",
    "    model=\"gpt-4.5-preview\",\n",
    "    input=[{\n",
    "        \"role\": \"user\",\n",
    "        \"content\": [\n",
    "            {\n",
    "                \"type\": \"input_text\",\n",
    "                \"text\": \"グラフからhogeの数値を推測して各年度分有効数字8桁でカンマ区切りで出力してください。\"\n",
    "            },\n",
    "            {\n",
    "                \"type\": \"input_image\",\n",
    "                \"image_url\": f\"data:image/png;base64,{base64_image}\"\n",
    "            },\n",
    "        ],\n",
    "    }],\n",
    ")\n",
    "\n",
    "print(response.output_text)"
   ]
  },
  {
   "cell_type": "code",
   "execution_count": 42,
   "metadata": {},
   "outputs": [
    {
     "name": "stdout",
     "output_type": "stream",
     "text": [
      "assistant : グラフから各年度の数値を読み取って、推測値を以下のように示します。\n",
      "\n",
      "2000: 0.9  \n",
      "2001: 0.2  \n",
      "2002: 0.9  \n",
      "2003: 0.75  \n",
      "2004: 0.03  \n",
      "2005: 0.95  \n",
      "2006: 0.65  \n",
      "2007: 0.05  \n",
      "2008: 0.9  \n",
      "2009: 0.25  \n",
      "2010: 0.75  \n",
      "2011: 0.35  \n",
      "2012: 0.02  \n",
      "2013: 0.05  \n",
      "2014: 0.45  \n",
      "2015: 0.65  \n",
      "2016: 0.25  \n",
      "2017: 0.85  \n",
      "2018: 0.35  \n",
      "2019: 0.7  \n",
      "2020: 0.05  \n",
      "2021: 1.0  \n",
      "2022: 0.3  \n",
      "2023: 0.95  \n",
      "2024: 0.1  \n",
      "2025: 0.8  \n",
      "\n",
      "これらを有効数字8桁でカンマ区切りで表現すると以下のようになります。\n",
      "\n",
      "0.90000000,0.20000000,0.90000000,0.75000000,0.03000000,0.95000000,0.65000000,0.05000000,0.90000000,0.25000000,0.75000000,0.35000000,0.02000000,0.05000000,0.45000000,0.65000000,0.25000000,0.85000000,0.35000000,0.70000000,0.05000000,1.00000000,0.30000000,0.95000000,0.10000000,0.80000000\n"
     ]
    }
   ],
   "source": [
    "assistant = client.beta.assistants.create(\n",
    "    model=\"gpt-4.5-preview\",\n",
    "    tools=[{\"type\": \"code_interpreter\"}],\n",
    "    tool_resources={\n",
    "        \"code_interpreter\": {\n",
    "            \"file_ids\": [file.id],\n",
    "        },\n",
    "    },\n",
    ")\n",
    "\n",
    "thread = client.beta.threads.create()\n",
    "\n",
    "message = client.beta.threads.messages.create(\n",
    "    thread_id=thread.id,\n",
    "    role=\"user\",\n",
    "    content=[\n",
    "        {\"type\": \"image_file\", \"image_file\": {\"file_id\": file.id}},\n",
    "        {\"type\": \"text\", \"text\": \"グラフからhogeの数値を推測して各年度分有効数字8桁でカンマ区切りで出力してください。\"},\n",
    "    ],\n",
    ")\n",
    "\n",
    "run = client.beta.threads.runs.create(\n",
    "    thread_id=thread.id,\n",
    "    assistant_id=assistant.id,\n",
    ")\n",
    "\n",
    "run = client.beta.threads.runs.retrieve(\n",
    "    thread_id=thread.id,\n",
    "    run_id=run.id,\n",
    ")\n",
    "\n",
    "while run.status != \"completed\":\n",
    "    run = client.beta.threads.runs.retrieve(\n",
    "        thread_id=thread.id,\n",
    "        run_id=run.id,\n",
    "    )\n",
    "    time.sleep(10)\n",
    "\n",
    "messages = client.beta.threads.messages.list(\n",
    "    thread_id=thread.id,\n",
    "    order=\"asc\",\n",
    ")\n",
    "\n",
    "for message in messages:\n",
    "    if message.content[0].type == \"text\":\n",
    "        print(message.role, \":\", message.content[0].text.value)"
   ]
  }
 ],
 "metadata": {
  "kernelspec": {
   "display_name": "graph-to-value",
   "language": "python",
   "name": "python3"
  },
  "language_info": {
   "codemirror_mode": {
    "name": "ipython",
    "version": 3
   },
   "file_extension": ".py",
   "mimetype": "text/x-python",
   "name": "python",
   "nbconvert_exporter": "python",
   "pygments_lexer": "ipython3",
   "version": "3.11.11"
  }
 },
 "nbformat": 4,
 "nbformat_minor": 2
}
